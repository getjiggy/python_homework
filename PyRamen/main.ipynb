{
 "cells": [
  {
   "cell_type": "code",
   "execution_count": 1,
   "id": "4fc28e44-ca8b-402b-a3a3-46e24eb3e96b",
   "metadata": {},
   "outputs": [],
   "source": [
    "# -*- coding: UTF-8 -*-\n",
    "\"\"\"PyRamen Homework Starter.\"\"\"\n",
    "\n",
    "# @TODO: Import libraries\n",
    "import csv\n",
    "from pathlib import Path"
   ]
  },
  {
   "cell_type": "code",
   "execution_count": 2,
   "id": "6a919fd5-d5b6-4732-9612-0e69f73fdbd1",
   "metadata": {},
   "outputs": [],
   "source": [
    "# @TODO: Set file paths for menu_data.csv and sales_data.csv\n",
    "menu_filepath = Path('C:\\\\Users\\\\mattr\\\\Class\\\\python_homework\\\\PyRamen\\\\Resources\\\\menu_data.csv')\n",
    "sales_filepath = Path('C:\\\\Users\\\\mattr\\\\Class\\\\python_homework\\\\PyRamen\\\\Resources\\\\sales_data.csv')\n",
    "\n",
    "# @TODO: Initialize list objects to hold our menu and sales data\n",
    "menu = []\n",
    "sales = []"
   ]
  },
  {
   "cell_type": "code",
   "execution_count": 2,
   "id": "4e3720d5-d2e4-40fa-8369-570ccabb8ef1",
   "metadata": {},
   "outputs": [],
   "source": [
    "# @TODO: Read in the menu data into the menu list\n",
    "with open(menu_filepath, 'r') as menu_csv:\n",
    "    reader = csv.reader(menu_csv)\n",
    "    next(reader)\n",
    "    for row in reader:\n",
    "        menu.append(row)"
   ]
  },
  {
   "cell_type": "code",
   "execution_count": 4,
   "id": "055482bb-b30e-4516-890a-93663a33c6c2",
   "metadata": {},
   "outputs": [],
   "source": [
    "# @TODO: Read in the sales data into the sales list\n",
    "\n",
    "with open(sales_filepath, 'r') as sales_csv:\n",
    "    reader = csv.reader(sales_csv)\n",
    "    next(reader)\n",
    "    for row in reader:\n",
    "        sales.append(row)"
   ]
  },
  {
   "cell_type": "code",
   "execution_count": 5,
   "id": "209c3907-494d-4161-b44c-5c71c0ea07f4",
   "metadata": {},
   "outputs": [],
   "source": [
    "# @TODO: Initialize dict object to hold our key-value pairs of items and metrics\n",
    "report = {}\n",
    "\n",
    "# Initialize a row counter variable\n",
    "row_count = 0"
   ]
  },
  {
   "cell_type": "code",
   "execution_count": null,
   "id": "81fc1d0e-3226-448a-b515-31eb190a9d90",
   "metadata": {},
   "outputs": [],
   "source": [
    "# @TODO: Loop over every row in the sales list object\n",
    "for i in range(len(sales)):\n",
    "    quantity = sales[i][3]\n",
    "    sales_item = sales[i][4]\n",
    "    if sales_item not in report:\n",
    "        report[sales_item] = {'01-count': 0,\n",
    "                             '02-revenue': 0,\n",
    "                             '03-cogs':0,\n",
    "                             '04-profit':0}\n",
    "    for i in range(len(menu)):\n",
    "        menu_item = menu[i][0]\n",
    "        price = menu[i][3]\n",
    "        cost = menu[i][4]\n",
    "        if sales_item == menu_item:\n",
    "            profit = float(quantity) * (float(price) - float(cost))\n",
    "            report[sales_item]['01-count'] += float(quantity)\n",
    "            report[sales_item]['02-revenue'] += float(price) * float(quantity)\n",
    "            report[sales_item]['03-cogs'] += float(cost) * float(quantity)\n",
    "            report[sales_item]['04-profit'] += float(profit) * float(quantity)\n",
    "        else:\n",
    "            print(f'{sales_item} does not equal {menu_item}! NO MATCH!')\n",
    "            \n",
    "            "
   ]
  },
  {
   "cell_type": "code",
   "execution_count": null,
   "id": "8a115815-36e1-40f5-92e8-f3aa59a194e5",
   "metadata": {},
   "outputs": [],
   "source": [
    "# write to new file\n",
    "with open('report.txt', 'w') as text:\n",
    "    text.write(str(report))"
   ]
  },
  {
   "cell_type": "code",
   "execution_count": null,
   "id": "5b3523b2-ba88-4766-ada5-4d2eb68644c3",
   "metadata": {},
   "outputs": [],
   "source": []
  }
 ],
 "metadata": {
  "kernelspec": {
   "display_name": "Python 3 (ipykernel)",
   "language": "python",
   "name": "python3"
  },
  "language_info": {
   "codemirror_mode": {
    "name": "ipython",
    "version": 3
   },
   "file_extension": ".py",
   "mimetype": "text/x-python",
   "name": "python",
   "nbconvert_exporter": "python",
   "pygments_lexer": "ipython3",
   "version": "3.7.11"
  }
 },
 "nbformat": 4,
 "nbformat_minor": 5
}
