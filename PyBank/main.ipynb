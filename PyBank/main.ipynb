{
 "cells": [
  {
   "cell_type": "code",
   "execution_count": 12,
   "id": "90c3aaa5-81ab-4c12-b7a6-552d35b0a22e",
   "metadata": {},
   "outputs": [
    {
     "name": "stdout",
     "output_type": "stream",
     "text": [
      "Financial Analysis\n",
      "-----------------------\n",
      "Total Months: 86\n",
      "Total Profit: $38382578\n",
      "    Average Change: $-2315.12\n",
      "Greatest Increase in Profits: Jan-2012 ($1926159)\n",
      "Greatest Decrease in Profits: Aug-2013 ($-2196167)\n"
     ]
    }
   ],
   "source": [
    "import csv\n",
    "\n",
    "# set empty record list\n",
    "record_list = []\n",
    "\n",
    "# opening budget_data.csv and appending each line to record_list\n",
    "with open('budget_data.csv') as data:\n",
    "    csv_reader = csv.reader(data)\n",
    "    next(csv_reader)\n",
    "    for line in csv_reader:\n",
    "        record_list.append(line)\n",
    "\n",
    "# setting variables for iteration\n",
    "avg_change = 0\n",
    "max_change = 0\n",
    "min_change = 0\n",
    "net_profit = 0\n",
    "min_row = ''\n",
    "max_row = ''        \n",
    "total_number_months = len(record_list)\n",
    "\n",
    "# iterating over record_list and performing calculations\n",
    "for i in range(len(record_list)):\n",
    "    net_profit += int(record_list[i][1])\n",
    "    if i != total_number_months - 1:\n",
    "        current_change = int(record_list[i + 1][1]) - int(record_list[i][1])\n",
    "        current_row = record_list[i][0]\n",
    "        avg_change += current_change        \n",
    "        if max_change == 0:\n",
    "            max_change = current_change\n",
    "            max_row = current_row\n",
    "        elif max_change < current_change:\n",
    "            max_change = current_change\n",
    "            max_row = current_row\n",
    "        if min_change == 0:\n",
    "            min_change = current_change\n",
    "            min_row = current_row\n",
    "        elif min_change > current_change:\n",
    "            min_change = current_change\n",
    "            min_row = current_row\n",
    "    else:\n",
    "        break\n",
    "            \n",
    "# finalizing avg_change        \n",
    "avg_change /= total_number_months - 1\n",
    "\n",
    "# printing results\n",
    "print('Financial Analysis')\n",
    "print('-----------------------')\n",
    "print(f'Total Months: {total_number_months}')\n",
    "print(f'Total Profit: ${round(net_profit)}')\n",
    "print(f'    Average Change: ${round(avg_change, 2)}')\n",
    "print(f'Greatest Increase in Profits: {max_row} (${max_change})')\n",
    "print(f'Greatest Decrease in Profits: {min_row} (${min_change})')"
   ]
  },
  {
   "cell_type": "code",
   "execution_count": null,
   "id": "88c8e1c6-e1ef-46ae-b785-b501822475b8",
   "metadata": {},
   "outputs": [],
   "source": []
  }
 ],
 "metadata": {
  "kernelspec": {
   "display_name": "Python 3 (ipykernel)",
   "language": "python",
   "name": "python3"
  },
  "language_info": {
   "codemirror_mode": {
    "name": "ipython",
    "version": 3
   },
   "file_extension": ".py",
   "mimetype": "text/x-python",
   "name": "python",
   "nbconvert_exporter": "python",
   "pygments_lexer": "ipython3",
   "version": "3.7.11"
  }
 },
 "nbformat": 4,
 "nbformat_minor": 5
}
