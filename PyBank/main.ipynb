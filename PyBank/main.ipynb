{
 "cells": [
  {
   "cell_type": "code",
   "execution_count": 3,
   "id": "90c3aaa5-81ab-4c12-b7a6-552d35b0a22e",
   "metadata": {},
   "outputs": [
    {
     "name": "stdout",
     "output_type": "stream",
     "text": [
      "        Date  Profit/Losses\n",
      "0   Jan-2010         867884\n",
      "1   Feb-2010         984655\n",
      "2   Mar-2010         322013\n",
      "3   Apr-2010         -69417\n",
      "4   May-2010         310503\n",
      "..       ...            ...\n",
      "81  Oct-2016         102685\n",
      "82  Nov-2016         795914\n",
      "83  Dec-2016          60988\n",
      "84  Jan-2017         138230\n",
      "85  Feb-2017         671099\n",
      "\n",
      "[86 rows x 2 columns]\n",
      "Financial Analysis\n",
      "-----------------------\n",
      "Total Months: 86\n",
      "Total Profit: $38382578\n",
      "    Average Change: $-2315.12\n",
      "Greatest Increase in Profits: Feb-2012 ($1926159)\n",
      "Greatest Decrease in Profits: Sep-2013 ($-2196167)\n"
     ]
    }
   ],
   "source": [
    "#\n",
    "\n",
    "\n",
    "import pandas as pd\n",
    "\n",
    "df = pd.read_csv(\"C:\\\\Users\\\\mattr\\\\Class\\\\python_homework\\\\PyBank\\\\budget_data.csv\")\n",
    "\n",
    "total_number_months = df['Date'].count()\n",
    "\n",
    "net_profit = df['Profit/Losses'].sum()\n",
    "change = df['Profit/Losses'][1] - df['Profit/Losses'][0]\n",
    "avg_change = 0\n",
    "max_change = 0\n",
    "max_row = df['Date'][1]\n",
    "min_row = df['Date'][1]\n",
    "min_change = 0\n",
    "\n",
    "for index, row in df.iterrows():\n",
    "    \n",
    "    if index != total_number_months - 1:\n",
    "        avg_change += df['Profit/Losses'][index + 1] - df['Profit/Losses'][index]\n",
    "        if max_change == 0:\n",
    "            max_change = df['Profit/Losses'][index + 1] - df['Profit/Losses'][index]\n",
    "            max_row = df['Date'][index + 1]\n",
    "        elif max_change < df['Profit/Losses'][index + 1] - df['Profit/Losses'][index]:\n",
    "            max_change = df['Profit/Losses'][index + 1] - df['Profit/Losses'][index]\n",
    "            max_row = df['Date'][index + 1]\n",
    "        if min_change == 0:\n",
    "            min_change = df['Profit/Losses'][index + 1] - df['Profit/Losses'][index]\n",
    "            min_row = df['Date'][index + 1]\n",
    "        elif min_change > df['Profit/Losses'][index + 1] - df['Profit/Losses'][index]:\n",
    "            min_change = df['Profit/Losses'][index + 1] - df['Profit/Losses'][index]\n",
    "            min_row = df['Date'][index + 1]\n",
    "    else:\n",
    "        break\n",
    "avg_change /= total_number_months - 1\n",
    "\n",
    "print('Financial Analysis')\n",
    "print('-----------------------')\n",
    "print(f'Total Months: {total_number_months}')\n",
    "print(f'Total Profit: ${round(net_profit)}')\n",
    "print(f'    Average Change: ${round(avg_change, 2)}')\n",
    "print(f'Greatest Increase in Profits: {max_row} (${max_change})')\n",
    "print(f'Greatest Decrease in Profits: {min_row} (${min_change})')\n"
   ]
  },
  {
   "cell_type": "code",
   "execution_count": null,
   "id": "88c8e1c6-e1ef-46ae-b785-b501822475b8",
   "metadata": {},
   "outputs": [],
   "source": []
  }
 ],
 "metadata": {
  "kernelspec": {
   "display_name": "Python 3 (ipykernel)",
   "language": "python",
   "name": "python3"
  },
  "language_info": {
   "codemirror_mode": {
    "name": "ipython",
    "version": 3
   },
   "file_extension": ".py",
   "mimetype": "text/x-python",
   "name": "python",
   "nbconvert_exporter": "python",
   "pygments_lexer": "ipython3",
   "version": "3.7.11"
  }
 },
 "nbformat": 4,
 "nbformat_minor": 5
}
